{
 "cells": [
  {
   "cell_type": "code",
   "execution_count": 1,
   "metadata": {},
   "outputs": [],
   "source": [
    "from __future__ import absolute_import, division, print_function, unicode_literals\n",
    "\n",
    "import tensorflow as tf\n",
    "import matplotlib.pyplot as plt\n",
    "import numpy as np\n",
    "import pandas as pd\n"
   ]
  },
  {
   "cell_type": "code",
   "execution_count": 2,
   "metadata": {},
   "outputs": [],
   "source": [
    "csv_columns_names = ['sepallength','sepalwidth','petallength','petalwidth','species']\n",
    "species = [\"setosa\",'versicolor','virginica']\n",
    "\n",
    "train_path = tf.keras.utils.get_file(\n",
    "    \"iris_training.csv\",\"http://storage.googleapis.com/download.tensorflow.org/data/iris_training.csv\")\n",
    "\n",
    "test_path = tf.keras.utils.get_file(\n",
    "    \"iris_test.csv\",\"http://storage.googleapis.com/download.tensorflow.org/data/iris_test.csv\")\n",
    "\n",
    "train =pd.read_csv(train_path, names = csv_columns_names, header=0)\n",
    "test = pd.read_csv(test_path, names = csv_columns_names, header = 0)"
   ]
  },
  {
   "cell_type": "code",
   "execution_count": 3,
   "metadata": {},
   "outputs": [
    {
     "data": {
      "text/html": [
       "<div>\n",
       "<style scoped>\n",
       "    .dataframe tbody tr th:only-of-type {\n",
       "        vertical-align: middle;\n",
       "    }\n",
       "\n",
       "    .dataframe tbody tr th {\n",
       "        vertical-align: top;\n",
       "    }\n",
       "\n",
       "    .dataframe thead th {\n",
       "        text-align: right;\n",
       "    }\n",
       "</style>\n",
       "<table border=\"1\" class=\"dataframe\">\n",
       "  <thead>\n",
       "    <tr style=\"text-align: right;\">\n",
       "      <th></th>\n",
       "      <th>sepallength</th>\n",
       "      <th>sepalwidth</th>\n",
       "      <th>petallength</th>\n",
       "      <th>petalwidth</th>\n",
       "      <th>species</th>\n",
       "    </tr>\n",
       "  </thead>\n",
       "  <tbody>\n",
       "    <tr>\n",
       "      <th>0</th>\n",
       "      <td>6.4</td>\n",
       "      <td>2.8</td>\n",
       "      <td>5.6</td>\n",
       "      <td>2.2</td>\n",
       "      <td>2</td>\n",
       "    </tr>\n",
       "    <tr>\n",
       "      <th>1</th>\n",
       "      <td>5.0</td>\n",
       "      <td>2.3</td>\n",
       "      <td>3.3</td>\n",
       "      <td>1.0</td>\n",
       "      <td>1</td>\n",
       "    </tr>\n",
       "    <tr>\n",
       "      <th>2</th>\n",
       "      <td>4.9</td>\n",
       "      <td>2.5</td>\n",
       "      <td>4.5</td>\n",
       "      <td>1.7</td>\n",
       "      <td>2</td>\n",
       "    </tr>\n",
       "    <tr>\n",
       "      <th>3</th>\n",
       "      <td>4.9</td>\n",
       "      <td>3.1</td>\n",
       "      <td>1.5</td>\n",
       "      <td>0.1</td>\n",
       "      <td>0</td>\n",
       "    </tr>\n",
       "    <tr>\n",
       "      <th>4</th>\n",
       "      <td>5.7</td>\n",
       "      <td>3.8</td>\n",
       "      <td>1.7</td>\n",
       "      <td>0.3</td>\n",
       "      <td>0</td>\n",
       "    </tr>\n",
       "  </tbody>\n",
       "</table>\n",
       "</div>"
      ],
      "text/plain": [
       "   sepallength  sepalwidth  petallength  petalwidth  species\n",
       "0          6.4         2.8          5.6         2.2        2\n",
       "1          5.0         2.3          3.3         1.0        1\n",
       "2          4.9         2.5          4.5         1.7        2\n",
       "3          4.9         3.1          1.5         0.1        0\n",
       "4          5.7         3.8          1.7         0.3        0"
      ]
     },
     "execution_count": 3,
     "metadata": {},
     "output_type": "execute_result"
    }
   ],
   "source": [
    "train.head()"
   ]
  },
  {
   "cell_type": "code",
   "execution_count": 4,
   "metadata": {},
   "outputs": [
    {
     "data": {
      "text/html": [
       "<div>\n",
       "<style scoped>\n",
       "    .dataframe tbody tr th:only-of-type {\n",
       "        vertical-align: middle;\n",
       "    }\n",
       "\n",
       "    .dataframe tbody tr th {\n",
       "        vertical-align: top;\n",
       "    }\n",
       "\n",
       "    .dataframe thead th {\n",
       "        text-align: right;\n",
       "    }\n",
       "</style>\n",
       "<table border=\"1\" class=\"dataframe\">\n",
       "  <thead>\n",
       "    <tr style=\"text-align: right;\">\n",
       "      <th></th>\n",
       "      <th>sepallength</th>\n",
       "      <th>sepalwidth</th>\n",
       "      <th>petallength</th>\n",
       "      <th>petalwidth</th>\n",
       "      <th>species</th>\n",
       "    </tr>\n",
       "  </thead>\n",
       "  <tbody>\n",
       "    <tr>\n",
       "      <th>0</th>\n",
       "      <td>5.9</td>\n",
       "      <td>3.0</td>\n",
       "      <td>4.2</td>\n",
       "      <td>1.5</td>\n",
       "      <td>1</td>\n",
       "    </tr>\n",
       "    <tr>\n",
       "      <th>1</th>\n",
       "      <td>6.9</td>\n",
       "      <td>3.1</td>\n",
       "      <td>5.4</td>\n",
       "      <td>2.1</td>\n",
       "      <td>2</td>\n",
       "    </tr>\n",
       "    <tr>\n",
       "      <th>2</th>\n",
       "      <td>5.1</td>\n",
       "      <td>3.3</td>\n",
       "      <td>1.7</td>\n",
       "      <td>0.5</td>\n",
       "      <td>0</td>\n",
       "    </tr>\n",
       "    <tr>\n",
       "      <th>3</th>\n",
       "      <td>6.0</td>\n",
       "      <td>3.4</td>\n",
       "      <td>4.5</td>\n",
       "      <td>1.6</td>\n",
       "      <td>1</td>\n",
       "    </tr>\n",
       "    <tr>\n",
       "      <th>4</th>\n",
       "      <td>5.5</td>\n",
       "      <td>2.5</td>\n",
       "      <td>4.0</td>\n",
       "      <td>1.3</td>\n",
       "      <td>1</td>\n",
       "    </tr>\n",
       "  </tbody>\n",
       "</table>\n",
       "</div>"
      ],
      "text/plain": [
       "   sepallength  sepalwidth  petallength  petalwidth  species\n",
       "0          5.9         3.0          4.2         1.5        1\n",
       "1          6.9         3.1          5.4         2.1        2\n",
       "2          5.1         3.3          1.7         0.5        0\n",
       "3          6.0         3.4          4.5         1.6        1\n",
       "4          5.5         2.5          4.0         1.3        1"
      ]
     },
     "execution_count": 4,
     "metadata": {},
     "output_type": "execute_result"
    }
   ],
   "source": [
    "test.head()"
   ]
  },
  {
   "cell_type": "code",
   "execution_count": 5,
   "metadata": {},
   "outputs": [],
   "source": [
    "train_y = train.pop(\"species\")\n",
    "test_y = test.pop(\"species\")"
   ]
  },
  {
   "cell_type": "code",
   "execution_count": 6,
   "metadata": {},
   "outputs": [],
   "source": [
    "def input_fn(features, labels, training=True, batch_size = 256):\n",
    "    dataset = tf.data.Dataset.from_tensor_slices((dict(features),labels))\n",
    "    \n",
    "    if training == True:\n",
    "        dataset = dataset.shuffle(1000).repeat()\n",
    "    return dataset.batch(batch_size)    "
   ]
  },
  {
   "cell_type": "code",
   "execution_count": 7,
   "metadata": {},
   "outputs": [
    {
     "name": "stdout",
     "output_type": "stream",
     "text": [
      "[NumericColumn(key='sepallength', shape=(1,), default_value=None, dtype=tf.float32, normalizer_fn=None), NumericColumn(key='sepalwidth', shape=(1,), default_value=None, dtype=tf.float32, normalizer_fn=None), NumericColumn(key='petallength', shape=(1,), default_value=None, dtype=tf.float32, normalizer_fn=None), NumericColumn(key='petalwidth', shape=(1,), default_value=None, dtype=tf.float32, normalizer_fn=None)]\n"
     ]
    }
   ],
   "source": [
    "my_feature_columns = []\n",
    "for key in train.keys():\n",
    "    my_feature_columns.append(tf.feature_column.numeric_column(key=key))\n",
    "print(my_feature_columns)"
   ]
  },
  {
   "cell_type": "code",
   "execution_count": 8,
   "metadata": {},
   "outputs": [
    {
     "name": "stdout",
     "output_type": "stream",
     "text": [
      "INFO:tensorflow:Using default config.\n",
      "WARNING:tensorflow:Using temporary folder as model directory: /tmp/tmpm6a_pzwh\n",
      "INFO:tensorflow:Using config: {'_model_dir': '/tmp/tmpm6a_pzwh', '_tf_random_seed': None, '_save_summary_steps': 100, '_save_checkpoints_steps': None, '_save_checkpoints_secs': 600, '_session_config': allow_soft_placement: true\n",
      "graph_options {\n",
      "  rewrite_options {\n",
      "    meta_optimizer_iterations: ONE\n",
      "  }\n",
      "}\n",
      ", '_keep_checkpoint_max': 5, '_keep_checkpoint_every_n_hours': 10000, '_log_step_count_steps': 100, '_train_distribute': None, '_device_fn': None, '_protocol': None, '_eval_distribute': None, '_experimental_distribute': None, '_experimental_max_worker_delay_secs': None, '_session_creation_timeout_secs': 7200, '_service': None, '_cluster_spec': ClusterSpec({}), '_task_type': 'worker', '_task_id': 0, '_global_id_in_cluster': 0, '_master': '', '_evaluation_master': '', '_is_chief': True, '_num_ps_replicas': 0, '_num_worker_replicas': 1}\n"
     ]
    }
   ],
   "source": [
    "classifier = tf.estimator.DNNClassifier(feature_columns= my_feature_columns,\n",
    "                                       hidden_units=[30,10],\n",
    "                                       n_classes = 3)"
   ]
  },
  {
   "cell_type": "code",
   "execution_count": 9,
   "metadata": {},
   "outputs": [
    {
     "name": "stdout",
     "output_type": "stream",
     "text": [
      "WARNING:tensorflow:From /home/hamza/.local/lib/python3.7/site-packages/tensorflow/python/ops/resource_variable_ops.py:1666: calling BaseResourceVariable.__init__ (from tensorflow.python.ops.resource_variable_ops) with constraint is deprecated and will be removed in a future version.\n",
      "Instructions for updating:\n",
      "If using Keras pass *_constraint arguments to layers.\n",
      "WARNING:tensorflow:From /home/hamza/.local/lib/python3.7/site-packages/tensorflow/python/training/training_util.py:236: Variable.initialized_value (from tensorflow.python.ops.variables) is deprecated and will be removed in a future version.\n",
      "Instructions for updating:\n",
      "Use Variable.read_value. Variables in 2.X are initialized automatically both in eager and graph (inside tf.defun) contexts.\n",
      "INFO:tensorflow:Calling model_fn.\n",
      "WARNING:tensorflow:Layer dnn is casting an input tensor from dtype float64 to the layer's dtype of float32, which is new behavior in TensorFlow 2.  The layer has dtype float32 because it's dtype defaults to floatx.\n",
      "\n",
      "If you intended to run this layer in float32, you can safely ignore this warning. If in doubt, this warning is likely only an issue if you are porting a TensorFlow 1.X model to TensorFlow 2.\n",
      "\n",
      "To change all layers to have dtype float64 by default, call `tf.keras.backend.set_floatx('float64')`. To change just this layer, pass dtype='float64' to the layer constructor. If you are the author of this layer, you can disable autocasting by passing autocast=False to the base Layer constructor.\n",
      "\n",
      "WARNING:tensorflow:From /home/hamza/.local/lib/python3.7/site-packages/tensorflow/python/keras/optimizer_v2/adagrad.py:106: calling Constant.__init__ (from tensorflow.python.ops.init_ops) with dtype is deprecated and will be removed in a future version.\n",
      "Instructions for updating:\n",
      "Call initializer instance with the dtype argument instead of passing it to the constructor\n",
      "INFO:tensorflow:Done calling model_fn.\n",
      "INFO:tensorflow:Create CheckpointSaverHook.\n",
      "INFO:tensorflow:Graph was finalized.\n",
      "INFO:tensorflow:Running local_init_op.\n",
      "INFO:tensorflow:Done running local_init_op.\n",
      "INFO:tensorflow:Calling checkpoint listeners before saving checkpoint 0...\n",
      "INFO:tensorflow:Saving checkpoints for 0 into /tmp/tmpm6a_pzwh/model.ckpt.\n",
      "INFO:tensorflow:Calling checkpoint listeners after saving checkpoint 0...\n",
      "INFO:tensorflow:loss = 2.1861777, step = 0\n",
      "INFO:tensorflow:global_step/sec: 527.076\n",
      "INFO:tensorflow:loss = 1.4897215, step = 100 (0.191 sec)\n",
      "INFO:tensorflow:global_step/sec: 461.881\n",
      "INFO:tensorflow:loss = 1.2793988, step = 200 (0.221 sec)\n",
      "INFO:tensorflow:global_step/sec: 355.951\n",
      "INFO:tensorflow:loss = 1.1571641, step = 300 (0.277 sec)\n",
      "INFO:tensorflow:global_step/sec: 492.944\n",
      "INFO:tensorflow:loss = 1.097246, step = 400 (0.203 sec)\n",
      "INFO:tensorflow:global_step/sec: 361.043\n",
      "INFO:tensorflow:loss = 1.0397569, step = 500 (0.279 sec)\n",
      "INFO:tensorflow:global_step/sec: 532.094\n",
      "INFO:tensorflow:loss = 1.0130883, step = 600 (0.185 sec)\n",
      "INFO:tensorflow:global_step/sec: 645.075\n",
      "INFO:tensorflow:loss = 0.9852706, step = 700 (0.155 sec)\n",
      "INFO:tensorflow:global_step/sec: 652.434\n",
      "INFO:tensorflow:loss = 0.9569269, step = 800 (0.153 sec)\n",
      "INFO:tensorflow:global_step/sec: 512.023\n",
      "INFO:tensorflow:loss = 0.9491509, step = 900 (0.195 sec)\n",
      "INFO:tensorflow:global_step/sec: 655.565\n",
      "INFO:tensorflow:loss = 0.9369271, step = 1000 (0.153 sec)\n",
      "INFO:tensorflow:global_step/sec: 665.291\n",
      "INFO:tensorflow:loss = 0.91068476, step = 1100 (0.150 sec)\n",
      "INFO:tensorflow:global_step/sec: 645.846\n",
      "INFO:tensorflow:loss = 0.90375626, step = 1200 (0.155 sec)\n",
      "INFO:tensorflow:global_step/sec: 648.332\n",
      "INFO:tensorflow:loss = 0.8809788, step = 1300 (0.154 sec)\n",
      "INFO:tensorflow:global_step/sec: 497.658\n",
      "INFO:tensorflow:loss = 0.8788391, step = 1400 (0.201 sec)\n",
      "INFO:tensorflow:global_step/sec: 676.84\n",
      "INFO:tensorflow:loss = 0.8724675, step = 1500 (0.148 sec)\n",
      "INFO:tensorflow:global_step/sec: 669.189\n",
      "INFO:tensorflow:loss = 0.8466494, step = 1600 (0.149 sec)\n",
      "INFO:tensorflow:global_step/sec: 658.125\n",
      "INFO:tensorflow:loss = 0.8351058, step = 1700 (0.152 sec)\n",
      "INFO:tensorflow:global_step/sec: 551.429\n",
      "INFO:tensorflow:loss = 0.82426846, step = 1800 (0.182 sec)\n",
      "INFO:tensorflow:global_step/sec: 619.462\n",
      "INFO:tensorflow:loss = 0.8171321, step = 1900 (0.161 sec)\n",
      "INFO:tensorflow:global_step/sec: 671.387\n",
      "INFO:tensorflow:loss = 0.81033784, step = 2000 (0.149 sec)\n",
      "INFO:tensorflow:global_step/sec: 648.578\n",
      "INFO:tensorflow:loss = 0.7976465, step = 2100 (0.154 sec)\n",
      "INFO:tensorflow:global_step/sec: 656.561\n",
      "INFO:tensorflow:loss = 0.7740894, step = 2200 (0.152 sec)\n",
      "INFO:tensorflow:global_step/sec: 670.265\n",
      "INFO:tensorflow:loss = 0.76408243, step = 2300 (0.149 sec)\n",
      "INFO:tensorflow:global_step/sec: 634.907\n",
      "INFO:tensorflow:loss = 0.7540828, step = 2400 (0.158 sec)\n",
      "INFO:tensorflow:global_step/sec: 614.027\n",
      "INFO:tensorflow:loss = 0.7383771, step = 2500 (0.163 sec)\n",
      "INFO:tensorflow:global_step/sec: 555.547\n",
      "INFO:tensorflow:loss = 0.72820616, step = 2600 (0.180 sec)\n",
      "INFO:tensorflow:global_step/sec: 664.981\n",
      "INFO:tensorflow:loss = 0.7148217, step = 2700 (0.151 sec)\n",
      "INFO:tensorflow:global_step/sec: 657.077\n",
      "INFO:tensorflow:loss = 0.7092422, step = 2800 (0.152 sec)\n",
      "INFO:tensorflow:global_step/sec: 639.004\n",
      "INFO:tensorflow:loss = 0.7072013, step = 2900 (0.157 sec)\n",
      "INFO:tensorflow:global_step/sec: 677.167\n",
      "INFO:tensorflow:loss = 0.68508947, step = 3000 (0.148 sec)\n",
      "INFO:tensorflow:global_step/sec: 503.409\n",
      "INFO:tensorflow:loss = 0.67604935, step = 3100 (0.198 sec)\n",
      "INFO:tensorflow:global_step/sec: 665.891\n",
      "INFO:tensorflow:loss = 0.6776194, step = 3200 (0.150 sec)\n",
      "INFO:tensorflow:global_step/sec: 656.879\n",
      "INFO:tensorflow:loss = 0.65756667, step = 3300 (0.152 sec)\n",
      "INFO:tensorflow:global_step/sec: 660.163\n",
      "INFO:tensorflow:loss = 0.6459957, step = 3400 (0.151 sec)\n",
      "INFO:tensorflow:global_step/sec: 588.849\n",
      "INFO:tensorflow:loss = 0.64667046, step = 3500 (0.170 sec)\n",
      "INFO:tensorflow:global_step/sec: 616.711\n",
      "INFO:tensorflow:loss = 0.62937856, step = 3600 (0.162 sec)\n",
      "INFO:tensorflow:global_step/sec: 622.462\n",
      "INFO:tensorflow:loss = 0.63602877, step = 3700 (0.160 sec)\n",
      "INFO:tensorflow:global_step/sec: 688.278\n",
      "INFO:tensorflow:loss = 0.61661744, step = 3800 (0.146 sec)\n",
      "INFO:tensorflow:global_step/sec: 678.799\n",
      "INFO:tensorflow:loss = 0.6057453, step = 3900 (0.147 sec)\n",
      "INFO:tensorflow:global_step/sec: 692.831\n",
      "INFO:tensorflow:loss = 0.5800419, step = 4000 (0.144 sec)\n",
      "INFO:tensorflow:global_step/sec: 679.599\n",
      "INFO:tensorflow:loss = 0.5982893, step = 4100 (0.147 sec)\n",
      "INFO:tensorflow:global_step/sec: 685.249\n",
      "INFO:tensorflow:loss = 0.58582056, step = 4200 (0.146 sec)\n",
      "INFO:tensorflow:global_step/sec: 699.577\n",
      "INFO:tensorflow:loss = 0.563818, step = 4300 (0.145 sec)\n",
      "INFO:tensorflow:global_step/sec: 664.893\n",
      "INFO:tensorflow:loss = 0.58240885, step = 4400 (0.148 sec)\n",
      "INFO:tensorflow:global_step/sec: 683.117\n",
      "INFO:tensorflow:loss = 0.56673956, step = 4500 (0.146 sec)\n",
      "INFO:tensorflow:global_step/sec: 679.409\n",
      "INFO:tensorflow:loss = 0.558242, step = 4600 (0.148 sec)\n",
      "INFO:tensorflow:global_step/sec: 678.502\n",
      "INFO:tensorflow:loss = 0.5590256, step = 4700 (0.147 sec)\n",
      "INFO:tensorflow:global_step/sec: 673.763\n",
      "INFO:tensorflow:loss = 0.5466201, step = 4800 (0.148 sec)\n",
      "INFO:tensorflow:global_step/sec: 677.485\n",
      "INFO:tensorflow:loss = 0.55191576, step = 4900 (0.148 sec)\n",
      "INFO:tensorflow:Calling checkpoint listeners before saving checkpoint 5000...\n",
      "INFO:tensorflow:Saving checkpoints for 5000 into /tmp/tmpm6a_pzwh/model.ckpt.\n",
      "INFO:tensorflow:Calling checkpoint listeners after saving checkpoint 5000...\n",
      "INFO:tensorflow:Loss for final step: 0.5336488.\n"
     ]
    },
    {
     "data": {
      "text/plain": [
       "<tensorflow_estimator.python.estimator.canned.dnn.DNNClassifierV2 at 0x7f68355471d0>"
      ]
     },
     "execution_count": 9,
     "metadata": {},
     "output_type": "execute_result"
    }
   ],
   "source": [
    "classifier.train(input_fn = lambda: input_fn(train, train_y, training=True),steps=5000)"
   ]
  },
  {
   "cell_type": "code",
   "execution_count": 10,
   "metadata": {},
   "outputs": [
    {
     "name": "stdout",
     "output_type": "stream",
     "text": [
      "INFO:tensorflow:Calling model_fn.\n",
      "WARNING:tensorflow:Layer dnn is casting an input tensor from dtype float64 to the layer's dtype of float32, which is new behavior in TensorFlow 2.  The layer has dtype float32 because it's dtype defaults to floatx.\n",
      "\n",
      "If you intended to run this layer in float32, you can safely ignore this warning. If in doubt, this warning is likely only an issue if you are porting a TensorFlow 1.X model to TensorFlow 2.\n",
      "\n",
      "To change all layers to have dtype float64 by default, call `tf.keras.backend.set_floatx('float64')`. To change just this layer, pass dtype='float64' to the layer constructor. If you are the author of this layer, you can disable autocasting by passing autocast=False to the base Layer constructor.\n",
      "\n",
      "INFO:tensorflow:Done calling model_fn.\n",
      "INFO:tensorflow:Starting evaluation at 2020-07-05T17:44:59Z\n",
      "INFO:tensorflow:Graph was finalized.\n",
      "INFO:tensorflow:Restoring parameters from /tmp/tmpm6a_pzwh/model.ckpt-5000\n",
      "INFO:tensorflow:Running local_init_op.\n",
      "INFO:tensorflow:Done running local_init_op.\n",
      "INFO:tensorflow:Inference Time : 0.20742s\n",
      "INFO:tensorflow:Finished evaluation at 2020-07-05-17:44:59\n",
      "INFO:tensorflow:Saving dict for global step 5000: accuracy = 0.7, average_loss = 0.6270523, global_step = 5000, loss = 0.6270523\n",
      "INFO:tensorflow:Saving 'checkpoint_path' summary for global step 5000: /tmp/tmpm6a_pzwh/model.ckpt-5000\n",
      "\n",
      "Test set Accuracy: 0.700\n",
      "\n"
     ]
    }
   ],
   "source": [
    "eval_result = classifier.evaluate(input_fn = lambda: input_fn(test, test_y, training=False))\n",
    "print('\\nTest set Accuracy: {accuracy:0.3f}\\n'.format(**eval_result))"
   ]
  },
  {
   "cell_type": "code",
   "execution_count": 55,
   "metadata": {},
   "outputs": [
    {
     "name": "stdout",
     "output_type": "stream",
     "text": [
      "Please enter the values for the following features\n",
      "sepallength: 4.5\n",
      "sepalwidth: 5.5\n",
      "petallength: 6.\n",
      "petalwidth: 3.5\n",
      "{'sepallength': [4.5], 'sepalwidth': [5.5], 'petallength': [6.0], 'petalwidth': [3.5]}\n",
      "INFO:tensorflow:Calling model_fn.\n",
      "INFO:tensorflow:Done calling model_fn.\n",
      "INFO:tensorflow:Graph was finalized.\n",
      "INFO:tensorflow:Restoring parameters from /tmp/tmpm6a_pzwh/model.ckpt-5000\n",
      "INFO:tensorflow:Running local_init_op.\n",
      "INFO:tensorflow:Done running local_init_op.\n",
      "{'logits': array([-3.0756617 , -1.9159694 , -0.72095263], dtype=float32), 'probabilities': array([0.06791625, 0.21658167, 0.7155021 ], dtype=float32), 'class_ids': array([2]), 'classes': array([b'2'], dtype=object), 'all_class_ids': array([0, 1, 2], dtype=int32), 'all_classes': array([b'0', b'1', b'2'], dtype=object)}\n",
      "Prediction is \"virginica\" (71.6%)\n"
     ]
    }
   ],
   "source": [
    "def input_fn(features, batch_size=256):\n",
    "    return tf.data.Dataset.from_tensor_slices(dict(features)).batch(batch_size)\n",
    "\n",
    "features = ['sepallength','sepalwidth','petallength','petalwidth']\n",
    "\n",
    "print(\"Please enter the values for the following features\")\n",
    "predict = {}\n",
    "for feature in features:\n",
    "    valid = True\n",
    "    while valid==True:\n",
    "        val = input(feature +\": \")\n",
    "        if not val.isdigit(): valid =False\n",
    "    predict[feature] =[float(val)]\n",
    "    \n",
    "print(predict)    \n",
    "    \n",
    "\n",
    "predictions = classifier.predict(input_fn=lambda:input_fn(predict))\n",
    "for pre_dict in predictions:\n",
    "    print(pre_dict)\n",
    "    class_id = pre_dict['class_ids'][0]\n",
    "    probability = pre_dict[\"probabilities\"][class_id]\n",
    "\n",
    "    print('Prediction is \"{}\" ({:.1f}%)'.format(\n",
    "         species[class_id],100* probability))"
   ]
  },
  {
   "cell_type": "code",
   "execution_count": 54,
   "metadata": {},
   "outputs": [
    {
     "data": {
      "text/plain": [
       "dict_values([5.9, 3.0, 4.2, 1.5])"
      ]
     },
     "execution_count": 54,
     "metadata": {},
     "output_type": "execute_result"
    }
   ],
   "source": [
    "af = test.to_dict(\"records\")\n",
    "af[0]\n",
    "af[0].values()"
   ]
  },
  {
   "cell_type": "code",
   "execution_count": 56,
   "metadata": {},
   "outputs": [],
   "source": [
    "test_predictions = classifier.predict(input_fn=lambda:input_fn(af))\n",
    "# for test_pred in test_predictions:\n",
    "#     print(test_pred)\n",
    "# print(next(test_predictions))\n",
    "\n"
   ]
  },
  {
   "cell_type": "code",
   "execution_count": null,
   "metadata": {},
   "outputs": [],
   "source": []
  }
 ],
 "metadata": {
  "kernelspec": {
   "display_name": "Python 3",
   "language": "python",
   "name": "python3"
  },
  "language_info": {
   "codemirror_mode": {
    "name": "ipython",
    "version": 3
   },
   "file_extension": ".py",
   "mimetype": "text/x-python",
   "name": "python",
   "nbconvert_exporter": "python",
   "pygments_lexer": "ipython3",
   "version": "3.7.5"
  }
 },
 "nbformat": 4,
 "nbformat_minor": 2
}
